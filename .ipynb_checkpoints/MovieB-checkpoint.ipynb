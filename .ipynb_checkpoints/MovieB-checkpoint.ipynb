{
 "cells": [
  {
   "cell_type": "code",
   "execution_count": 7,
   "metadata": {},
   "outputs": [
    {
     "name": "stdout",
     "output_type": "stream",
     "text": [
      "Connected successful to the database\n",
      "\n",
      "Movie Theater Active\n",
      "\n",
      "All Movies Played\n",
      "('Movie Id:', 1)\n",
      "('Movie Name:', u'The Hunger Games: Catching Fire')\n",
      "('Seats Available', 100)\n",
      "('Ticket Price:', 120)\n",
      "('Movie Id:', 2)\n",
      "('Movie Name:', u'Wreck-It Ralph')\n",
      "('Seats Available', 70)\n",
      "('Ticket Price:', 100)\n",
      "('Movie Id:', 3)\n",
      "('Movie Name:', u'Her')\n",
      "('Seats Available', 80)\n",
      "('Ticket Price:', 122)\n"
     ]
    },
    {
     "ename": "OperationalError",
     "evalue": "near \"Pie\": syntax error",
     "output_type": "error",
     "traceback": [
      "\u001b[0;31m---------------------------------------------------------------------------\u001b[0m",
      "\u001b[0;31mOperationalError\u001b[0m                          Traceback (most recent call last)",
      "\u001b[0;32m<ipython-input-7-ee86aa9907c6>\u001b[0m in \u001b[0;36m<module>\u001b[0;34m()\u001b[0m\n\u001b[1;32m     44\u001b[0m \u001b[0;34m\u001b[0m\u001b[0m\n\u001b[1;32m     45\u001b[0m \u001b[0;34m\u001b[0m\u001b[0m\n\u001b[0;32m---> 46\u001b[0;31m     \u001b[0mnewmovie\u001b[0m\u001b[0;34m(\u001b[0m\u001b[0;36m4\u001b[0m\u001b[0;34m,\u001b[0m\u001b[0;34m\"American Pie\"\u001b[0m\u001b[0;34m,\u001b[0m\u001b[0;36m120\u001b[0m\u001b[0;34m,\u001b[0m\u001b[0;36m200\u001b[0m\u001b[0;34m)\u001b[0m\u001b[0;34m\u001b[0m\u001b[0m\n\u001b[0m\u001b[1;32m     47\u001b[0m \u001b[0;34m\u001b[0m\u001b[0m\n\u001b[1;32m     48\u001b[0m     \u001b[0mshowmoviesall\u001b[0m\u001b[0;34m(\u001b[0m\u001b[0;34m)\u001b[0m\u001b[0;34m\u001b[0m\u001b[0m\n",
      "\u001b[0;32m<ipython-input-7-ee86aa9907c6>\u001b[0m in \u001b[0;36mnewmovie\u001b[0;34m(_id, mname, tseats, _price)\u001b[0m\n\u001b[1;32m     11\u001b[0m \u001b[0;34m\u001b[0m\u001b[0m\n\u001b[1;32m     12\u001b[0m \u001b[0;32mdef\u001b[0m \u001b[0mnewmovie\u001b[0m\u001b[0;34m(\u001b[0m\u001b[0m_id\u001b[0m\u001b[0;34m,\u001b[0m\u001b[0mmname\u001b[0m\u001b[0;34m,\u001b[0m\u001b[0mtseats\u001b[0m\u001b[0;34m,\u001b[0m\u001b[0m_price\u001b[0m\u001b[0;34m)\u001b[0m\u001b[0;34m:\u001b[0m\u001b[0;34m\u001b[0m\u001b[0m\n\u001b[0;32m---> 13\u001b[0;31m         \u001b[0mconn\u001b[0m\u001b[0;34m.\u001b[0m\u001b[0mexecute\u001b[0m\u001b[0;34m(\u001b[0m\u001b[0;34m''' Insert Into Movies(id,moviename, Seats,price) Values({},{},{},{});'''\u001b[0m\u001b[0;34m.\u001b[0m\u001b[0mformat\u001b[0m\u001b[0;34m(\u001b[0m\u001b[0m_id\u001b[0m\u001b[0;34m,\u001b[0m\u001b[0mmname\u001b[0m\u001b[0;34m,\u001b[0m\u001b[0mtseats\u001b[0m\u001b[0;34m,\u001b[0m\u001b[0m_price\u001b[0m\u001b[0;34m)\u001b[0m\u001b[0;34m)\u001b[0m\u001b[0;34m\u001b[0m\u001b[0m\n\u001b[0m\u001b[1;32m     14\u001b[0m \u001b[0;34m\u001b[0m\u001b[0m\n\u001b[1;32m     15\u001b[0m \u001b[0;32mdef\u001b[0m \u001b[0mshowmoviesall\u001b[0m\u001b[0;34m(\u001b[0m\u001b[0;34m)\u001b[0m\u001b[0;34m:\u001b[0m\u001b[0;34m\u001b[0m\u001b[0m\n",
      "\u001b[0;31mOperationalError\u001b[0m: near \"Pie\": syntax error"
     ]
    }
   ],
   "source": [
    "#!/usr/bin/python\n",
    "\n",
    "import sqlite3\n",
    "\n",
    "conn = sqlite3.connect('movies.db')\n",
    "print('Connected successful to the database')\n",
    "\n",
    "\n",
    "conn.execute(''' CREATE TABLE IF NOT EXISTS Movies(id int primary key, moviename text not null,Seats int ,price int);''')\n",
    "print('\\nMovie Theater Active')\n",
    "\n",
    "def newmovie(_id,mname,tseats,_price):\n",
    "        conn.execute(' Insert Into Movies(id,moviename, Seats,price) Values({},{},{},{});'.format(_id,mname,tseats,_price))\n",
    "\n",
    "def showmoviesall():\n",
    "    print('\\nAll Movies Played')\n",
    "\n",
    "    cursor= conn.execute(''' Select id,moviename, Seats,price From Movies ''')\n",
    "    for row in cursor:\n",
    "        print('Movie Id:', row[0])\n",
    "        print('Movie Name:', row[1])\n",
    "        print('Seats Available', row[2])\n",
    "        print('Ticket Price:', row[3])\n",
    "\n",
    "\n",
    "\n",
    "\n",
    "\n",
    "\n",
    "if __name__== '__main__':\n",
    "\n",
    "\n",
    "    movies = [\n",
    "        (1,\"The Hunger Games: Catching Fire\", 100,120),\n",
    "        (2,\"Wreck-It Ralph\", 70,100),\n",
    "        (3,\"Her\", 80,122)\n",
    "        ]\n",
    "    conn.executemany(\"\"\" INSERT INTO Movies(\n",
    "        id,moviename, Seats,price) VALUES(?,?,?,?)\n",
    "        \"\"\", movies)\n",
    "    conn.commit()\n",
    "\n",
    "    showmoviesall()\n",
    "\n",
    "\n",
    "    newmovie(4,\"American Pie\",120,200)\n",
    "\n",
    "    showmoviesall()"
   ]
  },
  {
   "cell_type": "code",
   "execution_count": null,
   "metadata": {},
   "outputs": [],
   "source": []
  },
  {
   "cell_type": "code",
   "execution_count": null,
   "metadata": {},
   "outputs": [],
   "source": []
  }
 ],
 "metadata": {
  "kernelspec": {
   "display_name": "Python 2",
   "language": "python",
   "name": "python2"
  },
  "language_info": {
   "codemirror_mode": {
    "name": "ipython",
    "version": 2
   },
   "file_extension": ".py",
   "mimetype": "text/x-python",
   "name": "python",
   "nbconvert_exporter": "python",
   "pygments_lexer": "ipython2",
   "version": "2.7.14"
  }
 },
 "nbformat": 4,
 "nbformat_minor": 2
}
